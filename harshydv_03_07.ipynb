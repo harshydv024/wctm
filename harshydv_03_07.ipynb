{
  "nbformat": 4,
  "nbformat_minor": 0,
  "metadata": {
    "colab": {
      "provenance": [],
      "include_colab_link": true
    },
    "kernelspec": {
      "name": "python3",
      "display_name": "Python 3"
    },
    "language_info": {
      "name": "python"
    }
  },
  "cells": [
    {
      "cell_type": "markdown",
      "metadata": {
        "id": "view-in-github",
        "colab_type": "text"
      },
      "source": [
        "<a href=\"https://colab.research.google.com/github/harshydv024/wctm/blob/main/harshydv_03_07.ipynb\" target=\"_parent\"><img src=\"https://colab.research.google.com/assets/colab-badge.svg\" alt=\"Open In Colab\"/></a>"
      ]
    },
    {
      "cell_type": "code",
      "execution_count": null,
      "metadata": {
        "colab": {
          "base_uri": "https://localhost:8080/"
        },
        "collapsed": true,
        "id": "9jD7xSZHzYEW",
        "outputId": "29993b30-b79c-4e6c-ee2c-4e948101333d"
      },
      "outputs": [
        {
          "output_type": "stream",
          "name": "stdout",
          "text": [
            "1\n",
            "2\n",
            "3\n",
            "4\n",
            "5\n",
            "6\n",
            "7\n",
            "8\n",
            "9\n",
            "10\n",
            "11\n",
            "12\n",
            "13\n",
            "14\n",
            "15\n",
            "16\n",
            "17\n",
            "18\n",
            "19\n",
            "20\n"
          ]
        }
      ],
      "source": [
        "# prompt: print range of first 20  no\n",
        "\n",
        "for i in range(1,21):\n",
        "  print(i)"
      ]
    },
    {
      "cell_type": "code",
      "source": [
        "#write a code of table of 5\n",
        "\n",
        "for i in range(5,55,5):\n",
        "  print(i)"
      ],
      "metadata": {
        "colab": {
          "base_uri": "https://localhost:8080/"
        },
        "id": "JViVtc5k1wbw",
        "outputId": "6a839e40-e53a-4671-8413-8b135705d896"
      },
      "execution_count": null,
      "outputs": [
        {
          "output_type": "stream",
          "name": "stdout",
          "text": [
            "5\n",
            "10\n",
            "15\n",
            "20\n",
            "25\n",
            "30\n",
            "35\n",
            "40\n",
            "45\n",
            "50\n"
          ]
        }
      ]
    },
    {
      "cell_type": "code",
      "source": [
        "#write a code print vowels?(capital and small letters)\n",
        "vowel = ['A','E','I','O','U','a','e','i','o','u']\n",
        "print(vowel)"
      ],
      "metadata": {
        "colab": {
          "base_uri": "https://localhost:8080/"
        },
        "id": "6MxPlZcx2ggU",
        "outputId": "2cf619ea-c68e-4ae4-a4f7-c2bbed5fc5aa"
      },
      "execution_count": null,
      "outputs": [
        {
          "output_type": "stream",
          "name": "stdout",
          "text": [
            "['A', 'E', 'I', 'O', 'U', 'a', 'e', 'i', 'o', 'u']\n"
          ]
        }
      ]
    },
    {
      "cell_type": "code",
      "source": [
        "#wap to print area of circle\n",
        "l = eval(input(\"enter the length\"))\n",
        "b = eval(input(\"enter the breadth\"))\n",
        "area = l*b\n",
        "print(\"the are is =\",area)"
      ],
      "metadata": {
        "colab": {
          "base_uri": "https://localhost:8080/"
        },
        "id": "UVHvft7858S4",
        "outputId": "de9eaf28-0291-4ec7-ca6b-58d81be453ec"
      },
      "execution_count": null,
      "outputs": [
        {
          "output_type": "stream",
          "name": "stdout",
          "text": [
            "enter the length6\n",
            "enter the breadth5\n",
            "30\n"
          ]
        }
      ]
    },
    {
      "cell_type": "code",
      "source": [
        "#wap to print area of circle\n",
        "r = eval(input(\"enter the radius\"))\n",
        "area = 3.14*r*r\n",
        "print(\"the are is =\",area)"
      ],
      "metadata": {
        "id": "wpIB4UNr6yhX",
        "colab": {
          "base_uri": "https://localhost:8080/"
        },
        "outputId": "8400fb5f-bd36-49b6-9ed8-65ffef77185d"
      },
      "execution_count": null,
      "outputs": [
        {
          "output_type": "stream",
          "name": "stdout",
          "text": [
            "enter the radius10\n",
            "the are is = 314.0\n"
          ]
        }
      ]
    },
    {
      "cell_type": "code",
      "source": [
        "# prompt: write a code to print your name , course name , college name and email address\n",
        "\n",
        "name = input(\"Your Name\")\n",
        "course_name = input(\"Your Course Name\")\n",
        "college_name = input(\"Your College Name\")\n",
        "email_address = input(\"your.email \")\n",
        "\n",
        "print(\"Name:\", name)\n",
        "print(\"Course Name:\", course_name)\n",
        "print(\"College Name:\", college_name)\n",
        "print(\"Email Address:\", email_address)\n"
      ],
      "metadata": {
        "colab": {
          "base_uri": "https://localhost:8080/"
        },
        "id": "-fM4Q7ptNXSZ",
        "outputId": "d67e44b1-e778-4f8d-b42f-e2f85a93d03d"
      },
      "execution_count": null,
      "outputs": [
        {
          "output_type": "stream",
          "name": "stdout",
          "text": [
            "Your Namesiddhant\n",
            "Your Course Nameaids\n",
            "Your College Namewctm\n",
            "your.email siddhant70@gmail.com\n",
            "Name: siddhant\n",
            "Course Name: aids\n",
            "College Name: wctm\n",
            "Email Address: siddhant70@gmail.com\n"
          ]
        }
      ]
    },
    {
      "cell_type": "code",
      "source": [
        "#write a code to print all non vowels in given string\n",
        "string = input(\"enter the string\")\n",
        "vowels = [\"a\",\"e\",\"i\",\"o\",\"u\",\"A\",'E','O','U','I']\n",
        "for i in string:\n",
        "  if i not in vowels:\n",
        "    print(i)"
      ],
      "metadata": {
        "colab": {
          "base_uri": "https://localhost:8080/"
        },
        "id": "AnqG1ImxSI7V",
        "outputId": "b4650f2f-3afd-4070-fb68-46ca133b3678"
      },
      "execution_count": null,
      "outputs": [
        {
          "output_type": "stream",
          "name": "stdout",
          "text": [
            "enter the stringwow pop\n",
            "w\n",
            "w\n",
            " \n",
            "p\n",
            "p\n"
          ]
        }
      ]
    },
    {
      "cell_type": "code",
      "source": [
        "#wap to display the defination of python with example\n",
        "print(\"Python is a high-level, general-purpose programming language. Its design philosophy emphasizes code readability with the use of significant indentation. Python is dynamically-typed and garbage-collected.\")"
      ],
      "metadata": {
        "colab": {
          "base_uri": "https://localhost:8080/"
        },
        "id": "aT8RcbIRUmxn",
        "outputId": "dfec78b1-588a-470a-9262-9417747a35e5"
      },
      "execution_count": null,
      "outputs": [
        {
          "output_type": "stream",
          "name": "stdout",
          "text": [
            "Python is a high-level, general-purpose programming language. Its design philosophy emphasizes code readability with the use of significant indentation. Python is dynamically-typed and garbage-collected.\n"
          ]
        }
      ]
    },
    {
      "cell_type": "code",
      "source": [
        "#wap to display the odd/even number\n",
        "num = eval(input(\"enter the number\"))\n",
        "if num%2==0:\n",
        "  print(\"the number is even\")\n",
        "else:\n",
        "  print(\"the number is odd\")"
      ],
      "metadata": {
        "colab": {
          "base_uri": "https://localhost:8080/"
        },
        "id": "FXBcwBfmU9U5",
        "outputId": "63e803a1-8825-4087-8909-e13839ba3153"
      },
      "execution_count": null,
      "outputs": [
        {
          "output_type": "stream",
          "name": "stdout",
          "text": [
            "enter the number20\n",
            "the number is even\n"
          ]
        }
      ]
    },
    {
      "cell_type": "code",
      "source": [
        "#wap a code to show the largest number?\n",
        "a = eval(input(\"enter the first the number\"))\n",
        "b = eval(input(\"enter the second the number\"))\n",
        "if a>b:\n",
        "  print(\"first is largest\")\n",
        "else:\n",
        "  print(\"second is largest, i,e :\",b)"
      ],
      "metadata": {
        "colab": {
          "base_uri": "https://localhost:8080/"
        },
        "id": "DoE53tp0VLPB",
        "outputId": "40858b5c-52e2-431c-83c3-c193caa2da9b"
      },
      "execution_count": null,
      "outputs": [
        {
          "output_type": "stream",
          "name": "stdout",
          "text": [
            "enter the first the number40\n",
            "enter the second the number59\n",
            "second is largest, i,e : 59\n"
          ]
        }
      ]
    },
    {
      "cell_type": "code",
      "source": [
        "a,b=10,20\n",
        "min = a if a<b else b\n",
        "max =a if b<a else b\n",
        "print(min)\n",
        "print(max)"
      ],
      "metadata": {
        "colab": {
          "base_uri": "https://localhost:8080/"
        },
        "id": "4TKik7AlvqJW",
        "outputId": "43730bc2-b3e7-4ebb-f35c-a8259feb51aa"
      },
      "execution_count": null,
      "outputs": [
        {
          "output_type": "stream",
          "name": "stdout",
          "text": [
            "10\n",
            "20\n"
          ]
        }
      ]
    },
    {
      "cell_type": "code",
      "source": [
        "x,y=24,20\n",
        "list = [10,20,30,40,50]\n",
        "if x  not in list:\n",
        "  print('x not in list')\n",
        "else:\n",
        "  print('x in list')\n",
        "\n",
        "if y  not in list:\n",
        "  print('y not in list')\n",
        "else:\n",
        "  print('y in list')"
      ],
      "metadata": {
        "id": "9qepGp36v58d",
        "colab": {
          "base_uri": "https://localhost:8080/"
        },
        "outputId": "7393bcd9-ff7a-40b1-ec2d-ed5e1ab817f2"
      },
      "execution_count": null,
      "outputs": [
        {
          "output_type": "stream",
          "name": "stdout",
          "text": [
            "x not in list\n",
            "y in list\n"
          ]
        }
      ]
    },
    {
      "cell_type": "code",
      "source": [
        "expr = 10+20*30\n",
        "print(expr)\n",
        "name='Alex'\n",
        "age=0\n",
        "\n",
        "if name=='Alex' or name=='John' and age>=2:\n",
        "  print('Hello!Welcome.')\n",
        "\n",
        "else:\n",
        "  print('Good Bye')"
      ],
      "metadata": {
        "colab": {
          "base_uri": "https://localhost:8080/"
        },
        "id": "xMkd7MFPycTk",
        "outputId": "42cd6c02-c29b-4d67-c550-b98a6f765310"
      },
      "execution_count": null,
      "outputs": [
        {
          "output_type": "stream",
          "name": "stdout",
          "text": [
            "610\n",
            "Hello!Welcome.\n"
          ]
        }
      ]
    },
    {
      "cell_type": "code",
      "source": [
        "name=\"madhavi\"\n",
        "age=0\n",
        "\n",
        "if name==\"madhavi\" or name==\"rahul\" and age>=2:\n",
        "  print(\"hello welcome\")\n",
        "\n",
        "else:\n",
        "  print(\"good bye\")\n"
      ],
      "metadata": {
        "id": "GPVBYtUA0lwQ",
        "colab": {
          "base_uri": "https://localhost:8080/"
        },
        "outputId": "0ce214ed-5e28-4442-f6ff-4121680b1386"
      },
      "execution_count": null,
      "outputs": [
        {
          "output_type": "stream",
          "name": "stdout",
          "text": [
            "hello welcome\n"
          ]
        }
      ]
    },
    {
      "cell_type": "code",
      "source": [
        "name=\"anup\" or name==\"ajay\"\n",
        "print(\"good bye\")"
      ],
      "metadata": {
        "colab": {
          "base_uri": "https://localhost:8080/"
        },
        "id": "ovMH1I8F3eyV",
        "outputId": "d515556d-9184-41f9-887f-ac5d4e8e3692"
      },
      "execution_count": null,
      "outputs": [
        {
          "output_type": "stream",
          "name": "stdout",
          "text": [
            "good bye\n"
          ]
        }
      ]
    },
    {
      "cell_type": "code",
      "source": [
        "print(100/ 10*10)\n",
        "print(5-2-3)\n",
        "print(5-10*2)"
      ],
      "metadata": {
        "colab": {
          "base_uri": "https://localhost:8080/"
        },
        "id": "c9XCfvNK4dO3",
        "outputId": "48741266-4b7b-413e-9f94-d92f49cafdc6"
      },
      "execution_count": null,
      "outputs": [
        {
          "output_type": "stream",
          "name": "stdout",
          "text": [
            "100.0\n",
            "0\n",
            "-15\n"
          ]
        }
      ]
    },
    {
      "cell_type": "code",
      "source": [
        "print(100*20-50)\n",
        "print(70-9-80)\n",
        "print(50/2)"
      ],
      "metadata": {
        "colab": {
          "base_uri": "https://localhost:8080/"
        },
        "id": "fLc2TJE75osD",
        "outputId": "611dbf0d-3589-4189-9295-742f0c4c4260"
      },
      "execution_count": null,
      "outputs": [
        {
          "output_type": "stream",
          "name": "stdout",
          "text": [
            "1950\n",
            "-19\n",
            "25.0\n"
          ]
        }
      ]
    },
    {
      "cell_type": "code",
      "source": [
        "print(4444%98)\n",
        "print(557%34)"
      ],
      "metadata": {
        "colab": {
          "base_uri": "https://localhost:8080/"
        },
        "id": "MvyOupAa8NRP",
        "outputId": "7ef0b889-cfc6-4e12-f481-fc4c8055dcc5"
      },
      "execution_count": null,
      "outputs": [
        {
          "output_type": "stream",
          "name": "stdout",
          "text": [
            "34\n",
            "13\n"
          ]
        }
      ]
    },
    {
      "cell_type": "code",
      "source": [
        "print(76_98-300)"
      ],
      "metadata": {
        "colab": {
          "base_uri": "https://localhost:8080/"
        },
        "id": "2T6uCO459dc9",
        "outputId": "0939b3c4-e857-4579-db0c-f31c4999992f"
      },
      "execution_count": null,
      "outputs": [
        {
          "output_type": "stream",
          "name": "stdout",
          "text": [
            "7398\n"
          ]
        }
      ]
    },
    {
      "cell_type": "code",
      "source": [
        "num1 = float(input(\"45:\"))\n",
        "num2 = float(input(\"34:\"))\n",
        "\n",
        "#compare the number\n",
        "if num1>num2:\n",
        " print(\"the largest number is\",num1)\n",
        "\n",
        "if num2>num1:\n",
        " print(\"the largest number is\",num2)"
      ],
      "metadata": {
        "colab": {
          "base_uri": "https://localhost:8080/"
        },
        "id": "jwkrEvQqU3x3",
        "outputId": "73b14455-5e2b-4911-f91e-87d98c4d21b2"
      },
      "execution_count": null,
      "outputs": [
        {
          "output_type": "stream",
          "name": "stdout",
          "text": [
            "45:45\n",
            "34:34\n",
            "the largest number is 45.0\n"
          ]
        }
      ]
    },
    {
      "cell_type": "code",
      "source": [
        "num = float(input(\"24:\"))\n",
        "\n",
        "#check the number\n",
        "if num > 0:\n",
        "  print(\"the number is postive\")\n"
      ],
      "metadata": {
        "colab": {
          "base_uri": "https://localhost:8080/"
        },
        "id": "qsSwnd6SXtrU",
        "outputId": "6b2a1811-b9ac-4616-9cfb-f2141ece577c"
      },
      "execution_count": null,
      "outputs": [
        {
          "output_type": "stream",
          "name": "stdout",
          "text": [
            "24:24\n",
            "the number is postive\n"
          ]
        }
      ]
    },
    {
      "cell_type": "code",
      "source": [
        "a = input(\"45:\")\n",
        "b = input(\"56:\")\n",
        "\n",
        "a,b = a,b\n",
        "print(\"after swapping\")"
      ],
      "metadata": {
        "colab": {
          "base_uri": "https://localhost:8080/"
        },
        "id": "ZTvAzO8pY4nv",
        "outputId": "1172fa10-ccde-4b7b-a86d-77c0977d45f4"
      },
      "execution_count": null,
      "outputs": [
        {
          "output_type": "stream",
          "name": "stdout",
          "text": [
            "45:45\n",
            "56:56\n",
            "after swapping\n"
          ]
        }
      ]
    },
    {
      "cell_type": "code",
      "source": [
        "num = int(input(\"4\"))\n",
        "\n",
        "print(f\"multiplication table of{num:}\")\n",
        "for i in range(1,11):\n",
        "  print(f\"{num}*{i} = {num*i}\")"
      ],
      "metadata": {
        "colab": {
          "base_uri": "https://localhost:8080/"
        },
        "id": "xqRJOT_vZzX6",
        "outputId": "2cbb0717-c469-417b-f099-d9d6f2cfe33a"
      },
      "execution_count": null,
      "outputs": [
        {
          "output_type": "stream",
          "name": "stdout",
          "text": [
            "44\n",
            "multiplication table of4\n",
            "4*1 = 4\n",
            "4*2 = 8\n",
            "4*3 = 12\n",
            "4*4 = 16\n",
            "4*5 = 20\n",
            "4*6 = 24\n",
            "4*7 = 28\n",
            "4*8 = 32\n",
            "4*9 = 36\n",
            "4*10 = 40\n"
          ]
        }
      ]
    },
    {
      "cell_type": "code",
      "source": [
        "#sum of all digit in a number\n",
        "num = int(input(\"Enter a number: \"))\n",
        "sum_of_digits = 0\n",
        "temp_num = num\n",
        "while temp_num > 0:\n",
        "  digit = temp_num % 10\n",
        "  sum_of_digits += digit\n",
        "  temp_num //= 10\n",
        "print(f\"The sum of the digits of {num} is: {sum_of_digits}\")\n"
      ],
      "metadata": {
        "colab": {
          "base_uri": "https://localhost:8080/"
        },
        "id": "tN6a07WrbK1m",
        "outputId": "e231daf1-dc55-4197-f894-c3719bce54c9"
      },
      "execution_count": null,
      "outputs": [
        {
          "output_type": "stream",
          "name": "stdout",
          "text": [
            "Enter a number: 10\n",
            "The sum of the digits of 10 is: 1\n"
          ]
        }
      ]
    },
    {
      "cell_type": "code",
      "source": [
        "#print reverse oder of list of numbers\n",
        "numbers = [1, 2, 3, 4, 5]\n",
        "reverse_numbers = numbers[::-1]\n",
        "print(reverse_numbers)"
      ],
      "metadata": {
        "colab": {
          "base_uri": "https://localhost:8080/"
        },
        "id": "1CBEBzGvciby",
        "outputId": "f781168e-7ab6-4634-aa23-cd61b511be42"
      },
      "execution_count": null,
      "outputs": [
        {
          "output_type": "stream",
          "name": "stdout",
          "text": [
            "[5, 4, 3, 2, 1]\n"
          ]
        }
      ]
    },
    {
      "cell_type": "code",
      "source": [
        "#check the vowel present in a string\n",
        "string = input(\"enter the string\")\n",
        "vowels = [\"a\",\"e\",\"i\",\"o\",\"u\",\"A\",'E','O','U','I']\n",
        "for i in string:\n",
        "  if i in vowels:\n",
        "    print(i)\n"
      ],
      "metadata": {
        "colab": {
          "base_uri": "https://localhost:8080/"
        },
        "id": "3mvaJUBwcyyJ",
        "outputId": "fd77cbdc-fd7f-4cf0-f055-0a989def6075"
      },
      "execution_count": null,
      "outputs": [
        {
          "output_type": "stream",
          "name": "stdout",
          "text": [
            "enter the stringeiewufwugwe\n",
            "e\n",
            "i\n",
            "e\n",
            "u\n",
            "u\n",
            "e\n"
          ]
        }
      ]
    },
    {
      "cell_type": "code",
      "source": [
        "#code to implement basic arithmetic operation on integers\n",
        "num1 = 5\n",
        "num2 = 2\n",
        "\n",
        "sum =num1+num2\n",
        "diffrence =num1-num2\n",
        "product =num1*num2\n",
        "quotient =num/num2\n",
        "print(sum)\n",
        "print(diffrence)\n",
        "print(product)\n",
        "print(quotient)"
      ],
      "metadata": {
        "colab": {
          "base_uri": "https://localhost:8080/"
        },
        "id": "ZUibeicpdbdS",
        "outputId": "68c37d2a-cda0-4b87-c921-135adabef04f"
      },
      "execution_count": null,
      "outputs": [
        {
          "output_type": "stream",
          "name": "stdout",
          "text": [
            "7\n",
            "3\n",
            "10\n",
            "5.0\n"
          ]
        }
      ]
    },
    {
      "cell_type": "code",
      "source": [
        "num1 = 30\n",
        "num2 = 35\n",
        "num3 = 45\n",
        "if num1>num2 and num1>num2:\n",
        " print(\"num1 is greater\")\n",
        "elif num2>num1 and num2>num3:\n",
        "  print(\"num2 is greater\")\n",
        "else:\n",
        "  print(\"num3 is greater\")\n"
      ],
      "metadata": {
        "colab": {
          "base_uri": "https://localhost:8080/"
        },
        "id": "bNmSUUqufgMr",
        "outputId": "098abaee-dbff-40c9-a379-6d3bc734c88d"
      },
      "execution_count": null,
      "outputs": [
        {
          "output_type": "stream",
          "name": "stdout",
          "text": [
            "num3 is greater\n"
          ]
        }
      ]
    },
    {
      "cell_type": "code",
      "source": [
        "list =[3,1,4]\n",
        "list.append(5)\n",
        "list.pop(1)\n",
        "list\n",
        "list.sort()\n",
        "list"
      ],
      "metadata": {
        "colab": {
          "base_uri": "https://localhost:8080/"
        },
        "id": "gkNwFBW7h_R0",
        "outputId": "d18ccacc-f4ad-406c-d2b2-76aac983e9d2"
      },
      "execution_count": null,
      "outputs": [
        {
          "output_type": "execute_result",
          "data": {
            "text/plain": [
              "[3, 4, 5]"
            ]
          },
          "metadata": {},
          "execution_count": 61
        }
      ]
    },
    {
      "cell_type": "code",
      "source": [
        "tuple = (10,20,30)\n",
        "#accessing elements\n",
        "print(tuple[1])\n",
        "\n",
        "#tuple unpacking\n",
        "a,b,c = tuple\n",
        "print(a,b,c)\n"
      ],
      "metadata": {
        "colab": {
          "base_uri": "https://localhost:8080/"
        },
        "id": "Dhu7P8jVjkFo",
        "outputId": "d6f3e16e-55a7-4662-f3c7-34efe3a0b5aa"
      },
      "execution_count": null,
      "outputs": [
        {
          "output_type": "stream",
          "name": "stdout",
          "text": [
            "20\n",
            "10 20 30\n"
          ]
        }
      ]
    },
    {
      "cell_type": "code",
      "source": [
        "list = [3,1,4]\n",
        "\n",
        "#append()\n",
        "list.append(5)\n",
        "\n",
        "#pop()\n",
        "list.pop(1)\n",
        "\n",
        "#sort()\n",
        "list.sort()\n",
        "\n",
        "#reverse()\n",
        "list.reverse()\n"
      ],
      "metadata": {
        "id": "0sB5_JwZknr5"
      },
      "execution_count": null,
      "outputs": []
    },
    {
      "cell_type": "code",
      "source": [],
      "metadata": {
        "id": "V0dxQNREnavR"
      },
      "execution_count": null,
      "outputs": []
    },
    {
      "cell_type": "code",
      "source": [
        "\"\"\"\n",
        "lambda functions\n",
        "\n",
        "1.\n",
        "\n",
        "\"\"\"\n",
        "#lambda too add 2 numbers\n",
        "add = lambda x,y:x+y\n",
        "print(add(2,3))\n",
        "\n",
        "#lamda with map()\n",
        "num = [1,2,3,4,5]\n",
        "square = list(map(lambda x:x**2,num))\n",
        "print(square)\n",
        "\n",
        "\n"
      ],
      "metadata": {
        "id": "kat_AMzboRZL",
        "colab": {
          "base_uri": "https://localhost:8080/",
          "height": 224
        },
        "outputId": "02004ce7-be10-4e45-ea71-4e90e6317964"
      },
      "execution_count": 72,
      "outputs": [
        {
          "output_type": "stream",
          "name": "stdout",
          "text": [
            "5\n"
          ]
        },
        {
          "output_type": "error",
          "ename": "TypeError",
          "evalue": "'list' object is not callable",
          "traceback": [
            "\u001b[0;31m---------------------------------------------------------------------------\u001b[0m",
            "\u001b[0;31mTypeError\u001b[0m                                 Traceback (most recent call last)",
            "\u001b[0;32m/tmp/ipython-input-72-2333340744.py\u001b[0m in \u001b[0;36m<cell line: 0>\u001b[0;34m()\u001b[0m\n\u001b[1;32m     11\u001b[0m \u001b[0;31m#lamda with map()\u001b[0m\u001b[0;34m\u001b[0m\u001b[0;34m\u001b[0m\u001b[0m\n\u001b[1;32m     12\u001b[0m \u001b[0mnum\u001b[0m \u001b[0;34m=\u001b[0m \u001b[0;34m[\u001b[0m\u001b[0;36m1\u001b[0m\u001b[0;34m,\u001b[0m\u001b[0;36m2\u001b[0m\u001b[0;34m,\u001b[0m\u001b[0;36m3\u001b[0m\u001b[0;34m,\u001b[0m\u001b[0;36m4\u001b[0m\u001b[0;34m,\u001b[0m\u001b[0;36m5\u001b[0m\u001b[0;34m]\u001b[0m\u001b[0;34m\u001b[0m\u001b[0;34m\u001b[0m\u001b[0m\n\u001b[0;32m---> 13\u001b[0;31m \u001b[0msquare\u001b[0m \u001b[0;34m=\u001b[0m \u001b[0mlist\u001b[0m\u001b[0;34m(\u001b[0m\u001b[0mmap\u001b[0m\u001b[0;34m(\u001b[0m\u001b[0;32mlambda\u001b[0m \u001b[0mx\u001b[0m\u001b[0;34m:\u001b[0m\u001b[0mx\u001b[0m\u001b[0;34m**\u001b[0m\u001b[0;36m2\u001b[0m\u001b[0;34m,\u001b[0m\u001b[0mnum\u001b[0m\u001b[0;34m)\u001b[0m\u001b[0;34m)\u001b[0m\u001b[0;34m\u001b[0m\u001b[0;34m\u001b[0m\u001b[0m\n\u001b[0m\u001b[1;32m     14\u001b[0m \u001b[0mprint\u001b[0m\u001b[0;34m(\u001b[0m\u001b[0msquare\u001b[0m\u001b[0;34m)\u001b[0m\u001b[0;34m\u001b[0m\u001b[0;34m\u001b[0m\u001b[0m\n\u001b[1;32m     15\u001b[0m \u001b[0;34m\u001b[0m\u001b[0m\n",
            "\u001b[0;31mTypeError\u001b[0m: 'list' object is not callable"
          ]
        }
      ]
    },
    {
      "cell_type": "code",
      "source": [],
      "metadata": {
        "id": "N6UJcBwnq-im"
      },
      "execution_count": null,
      "outputs": []
    }
  ]
}