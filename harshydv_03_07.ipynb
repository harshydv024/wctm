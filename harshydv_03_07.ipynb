{
  "nbformat": 4,
  "nbformat_minor": 0,
  "metadata": {
    "colab": {
      "provenance": []
    },
    "kernelspec": {
      "name": "python3",
      "display_name": "Python 3"
    },
    "language_info": {
      "name": "python"
    }
  },
  "cells": [
    {
      "cell_type": "code",
      "execution_count": null,
      "metadata": {
        "colab": {
          "base_uri": "https://localhost:8080/"
        },
        "collapsed": true,
        "id": "9jD7xSZHzYEW",
        "outputId": "29993b30-b79c-4e6c-ee2c-4e948101333d"
      },
      "outputs": [
        {
          "output_type": "stream",
          "name": "stdout",
          "text": [
            "1\n",
            "2\n",
            "3\n",
            "4\n",
            "5\n",
            "6\n",
            "7\n",
            "8\n",
            "9\n",
            "10\n",
            "11\n",
            "12\n",
            "13\n",
            "14\n",
            "15\n",
            "16\n",
            "17\n",
            "18\n",
            "19\n",
            "20\n"
          ]
        }
      ],
      "source": [
        "# prompt: print range of first 20  no\n",
        "\n",
        "for i in range(1,21):\n",
        "  print(i)"
      ]
    },
    {
      "cell_type": "code",
      "source": [
        "#write a code of table of 5\n",
        "\n",
        "for i in range(5,55,5):\n",
        "  print(i)"
      ],
      "metadata": {
        "colab": {
          "base_uri": "https://localhost:8080/"
        },
        "id": "JViVtc5k1wbw",
        "outputId": "6a839e40-e53a-4671-8413-8b135705d896"
      },
      "execution_count": null,
      "outputs": [
        {
          "output_type": "stream",
          "name": "stdout",
          "text": [
            "5\n",
            "10\n",
            "15\n",
            "20\n",
            "25\n",
            "30\n",
            "35\n",
            "40\n",
            "45\n",
            "50\n"
          ]
        }
      ]
    },
    {
      "cell_type": "code",
      "source": [
        "#write a code print vowels?(capital and small letters)\n",
        "vowel = ['A','E','I','O','U','a','e','i','o','u']\n",
        "print(vowel)"
      ],
      "metadata": {
        "colab": {
          "base_uri": "https://localhost:8080/"
        },
        "id": "6MxPlZcx2ggU",
        "outputId": "2cf619ea-c68e-4ae4-a4f7-c2bbed5fc5aa"
      },
      "execution_count": null,
      "outputs": [
        {
          "output_type": "stream",
          "name": "stdout",
          "text": [
            "['A', 'E', 'I', 'O', 'U', 'a', 'e', 'i', 'o', 'u']\n"
          ]
        }
      ]
    },
    {
      "cell_type": "code",
      "source": [
        "#wap to print area of circle\n",
        "l = eval(input(\"enter the length\"))\n",
        "b = eval(input(\"enter the breadth\"))\n",
        "area = l*b\n",
        "print(\"the are is =\",area)"
      ],
      "metadata": {
        "colab": {
          "base_uri": "https://localhost:8080/"
        },
        "id": "UVHvft7858S4",
        "outputId": "de9eaf28-0291-4ec7-ca6b-58d81be453ec"
      },
      "execution_count": null,
      "outputs": [
        {
          "output_type": "stream",
          "name": "stdout",
          "text": [
            "enter the length6\n",
            "enter the breadth5\n",
            "30\n"
          ]
        }
      ]
    },
    {
      "cell_type": "code",
      "source": [
        "#wap to print area of circle\n",
        "r = eval(input(\"enter the radius\"))\n",
        "area = 3.14*r*r\n",
        "print(\"the are is =\",area)"
      ],
      "metadata": {
        "id": "wpIB4UNr6yhX",
        "colab": {
          "base_uri": "https://localhost:8080/"
        },
        "outputId": "8400fb5f-bd36-49b6-9ed8-65ffef77185d"
      },
      "execution_count": null,
      "outputs": [
        {
          "output_type": "stream",
          "name": "stdout",
          "text": [
            "enter the radius10\n",
            "the are is = 314.0\n"
          ]
        }
      ]
    },
    {
      "cell_type": "code",
      "source": [
        "# prompt: write a code to print your name , course name , college name and email address\n",
        "\n",
        "name = input(\"Your Name\")\n",
        "course_name = input(\"Your Course Name\")\n",
        "college_name = input(\"Your College Name\")\n",
        "email_address = input(\"your.email \")\n",
        "\n",
        "print(\"Name:\", name)\n",
        "print(\"Course Name:\", course_name)\n",
        "print(\"College Name:\", college_name)\n",
        "print(\"Email Address:\", email_address)\n"
      ],
      "metadata": {
        "colab": {
          "base_uri": "https://localhost:8080/"
        },
        "id": "-fM4Q7ptNXSZ",
        "outputId": "d67e44b1-e778-4f8d-b42f-e2f85a93d03d"
      },
      "execution_count": null,
      "outputs": [
        {
          "output_type": "stream",
          "name": "stdout",
          "text": [
            "Your Namesiddhant\n",
            "Your Course Nameaids\n",
            "Your College Namewctm\n",
            "your.email siddhant70@gmail.com\n",
            "Name: siddhant\n",
            "Course Name: aids\n",
            "College Name: wctm\n",
            "Email Address: siddhant70@gmail.com\n"
          ]
        }
      ]
    },
    {
      "cell_type": "code",
      "source": [
        "#write a code to print all non vowels in given string\n",
        "string = input(\"enter the string\")\n",
        "vowels = [\"a\",\"e\",\"i\",\"o\",\"u\",\"A\",'E','O','U','I']\n",
        "for i in string:\n",
        "  if i not in vowels:\n",
        "    print(i)"
      ],
      "metadata": {
        "colab": {
          "base_uri": "https://localhost:8080/"
        },
        "id": "AnqG1ImxSI7V",
        "outputId": "b4650f2f-3afd-4070-fb68-46ca133b3678"
      },
      "execution_count": null,
      "outputs": [
        {
          "output_type": "stream",
          "name": "stdout",
          "text": [
            "enter the stringwow pop\n",
            "w\n",
            "w\n",
            " \n",
            "p\n",
            "p\n"
          ]
        }
      ]
    },
    {
      "cell_type": "code",
      "source": [
        "#wap to display the defination of python with example\n",
        "print(\"Python is a high-level, general-purpose programming language. Its design philosophy emphasizes code readability with the use of significant indentation. Python is dynamically-typed and garbage-collected.\")"
      ],
      "metadata": {
        "colab": {
          "base_uri": "https://localhost:8080/"
        },
        "id": "aT8RcbIRUmxn",
        "outputId": "dfec78b1-588a-470a-9262-9417747a35e5"
      },
      "execution_count": null,
      "outputs": [
        {
          "output_type": "stream",
          "name": "stdout",
          "text": [
            "Python is a high-level, general-purpose programming language. Its design philosophy emphasizes code readability with the use of significant indentation. Python is dynamically-typed and garbage-collected.\n"
          ]
        }
      ]
    },
    {
      "cell_type": "code",
      "source": [
        "#wap to display the odd/even number\n",
        "num = eval(input(\"enter the number\"))\n",
        "if num%2==0:\n",
        "  print(\"the number is even\")\n",
        "else:\n",
        "  print(\"the number is odd\")"
      ],
      "metadata": {
        "colab": {
          "base_uri": "https://localhost:8080/"
        },
        "id": "FXBcwBfmU9U5",
        "outputId": "63e803a1-8825-4087-8909-e13839ba3153"
      },
      "execution_count": null,
      "outputs": [
        {
          "output_type": "stream",
          "name": "stdout",
          "text": [
            "enter the number20\n",
            "the number is even\n"
          ]
        }
      ]
    },
    {
      "cell_type": "code",
      "source": [
        "#wap a code to show the largest number?\n",
        "a = eval(input(\"enter the first the number\"))\n",
        "b = eval(input(\"enter the second the number\"))\n",
        "if a>b:\n",
        "  print(\"first is largest\")\n",
        "else:\n",
        "  print(\"second is largest, i,e :\",b)"
      ],
      "metadata": {
        "colab": {
          "base_uri": "https://localhost:8080/"
        },
        "id": "DoE53tp0VLPB",
        "outputId": "40858b5c-52e2-431c-83c3-c193caa2da9b"
      },
      "execution_count": null,
      "outputs": [
        {
          "output_type": "stream",
          "name": "stdout",
          "text": [
            "enter the first the number40\n",
            "enter the second the number59\n",
            "second is largest, i,e : 59\n"
          ]
        }
      ]
    },
    {
      "cell_type": "code",
      "source": [
        "a,b=10,20\n",
        "min = a if a<b else b\n",
        "max =a if b<a else b\n",
        "print(min)\n",
        "print(max)"
      ],
      "metadata": {
        "colab": {
          "base_uri": "https://localhost:8080/"
        },
        "id": "4TKik7AlvqJW",
        "outputId": "43730bc2-b3e7-4ebb-f35c-a8259feb51aa"
      },
      "execution_count": null,
      "outputs": [
        {
          "output_type": "stream",
          "name": "stdout",
          "text": [
            "10\n",
            "20\n"
          ]
        }
      ]
    },
    {
      "cell_type": "code",
      "source": [
        "x,y=24,20\n",
        "list = [10,20,30,40,50]\n",
        "if x  not in list:\n",
        "  print('x not in list')\n",
        "else:\n",
        "  print('x in list')\n",
        "\n",
        "if y  not in list:\n",
        "  print('y not in list')\n",
        "else:\n",
        "  print('y in list')"
      ],
      "metadata": {
        "id": "9qepGp36v58d",
        "colab": {
          "base_uri": "https://localhost:8080/"
        },
        "outputId": "7393bcd9-ff7a-40b1-ec2d-ed5e1ab817f2"
      },
      "execution_count": null,
      "outputs": [
        {
          "output_type": "stream",
          "name": "stdout",
          "text": [
            "x not in list\n",
            "y in list\n"
          ]
        }
      ]
    },
    {
      "cell_type": "code",
      "source": [
        "expr = 10+20*30\n",
        "print(expr)\n",
        "name='Alex'\n",
        "age=0\n",
        "\n",
        "if name=='Alex' or name=='John' and age>=2:\n",
        "  print('Hello!Welcome.')\n",
        "\n",
        "else:\n",
        "  print('Good Bye')"
      ],
      "metadata": {
        "colab": {
          "base_uri": "https://localhost:8080/"
        },
        "id": "xMkd7MFPycTk",
        "outputId": "42cd6c02-c29b-4d67-c550-b98a6f765310"
      },
      "execution_count": null,
      "outputs": [
        {
          "output_type": "stream",
          "name": "stdout",
          "text": [
            "610\n",
            "Hello!Welcome.\n"
          ]
        }
      ]
    },
    {
      "cell_type": "code",
      "source": [
        "name=\"madhavi\"\n",
        "age=0\n",
        "\n",
        "if name==\"madhavi\" or name==\"rahul\" and age>=2:\n",
        "  print(\"hello welcome\")\n",
        "\n",
        "else:\n",
        "  print(\"good bye\")\n"
      ],
      "metadata": {
        "id": "GPVBYtUA0lwQ",
        "colab": {
          "base_uri": "https://localhost:8080/"
        },
        "outputId": "0ce214ed-5e28-4442-f6ff-4121680b1386"
      },
      "execution_count": 9,
      "outputs": [
        {
          "output_type": "stream",
          "name": "stdout",
          "text": [
            "hello welcome\n"
          ]
        }
      ]
    },
    {
      "cell_type": "code",
      "source": [
        "name=\"anup\" or name==\"ajay\"\n",
        "print(\"good bye\")"
      ],
      "metadata": {
        "colab": {
          "base_uri": "https://localhost:8080/"
        },
        "id": "ovMH1I8F3eyV",
        "outputId": "d515556d-9184-41f9-887f-ac5d4e8e3692"
      },
      "execution_count": 10,
      "outputs": [
        {
          "output_type": "stream",
          "name": "stdout",
          "text": [
            "good bye\n"
          ]
        }
      ]
    },
    {
      "cell_type": "code",
      "source": [
        "print(100/ 10*10)\n",
        "print(5-2-3)\n",
        "print(5-10*2)"
      ],
      "metadata": {
        "colab": {
          "base_uri": "https://localhost:8080/"
        },
        "id": "c9XCfvNK4dO3",
        "outputId": "48741266-4b7b-413e-9f94-d92f49cafdc6"
      },
      "execution_count": 11,
      "outputs": [
        {
          "output_type": "stream",
          "name": "stdout",
          "text": [
            "100.0\n",
            "0\n",
            "-15\n"
          ]
        }
      ]
    },
    {
      "cell_type": "code",
      "source": [
        "print(100*20-50)\n",
        "print(70-9-80)\n",
        "print(50/2)"
      ],
      "metadata": {
        "colab": {
          "base_uri": "https://localhost:8080/"
        },
        "id": "fLc2TJE75osD",
        "outputId": "611dbf0d-3589-4189-9295-742f0c4c4260"
      },
      "execution_count": 13,
      "outputs": [
        {
          "output_type": "stream",
          "name": "stdout",
          "text": [
            "1950\n",
            "-19\n",
            "25.0\n"
          ]
        }
      ]
    },
    {
      "cell_type": "code",
      "source": [
        "print(4444%98)\n",
        "print(557%34)"
      ],
      "metadata": {
        "colab": {
          "base_uri": "https://localhost:8080/"
        },
        "id": "MvyOupAa8NRP",
        "outputId": "7ef0b889-cfc6-4e12-f481-fc4c8055dcc5"
      },
      "execution_count": 16,
      "outputs": [
        {
          "output_type": "stream",
          "name": "stdout",
          "text": [
            "34\n",
            "13\n"
          ]
        }
      ]
    },
    {
      "cell_type": "code",
      "source": [
        "print(76_98-300)"
      ],
      "metadata": {
        "colab": {
          "base_uri": "https://localhost:8080/"
        },
        "id": "2T6uCO459dc9",
        "outputId": "0939b3c4-e857-4579-db0c-f31c4999992f"
      },
      "execution_count": 17,
      "outputs": [
        {
          "output_type": "stream",
          "name": "stdout",
          "text": [
            "7398\n"
          ]
        }
      ]
    },
    {
      "cell_type": "code",
      "source": [
        "#write"
      ],
      "metadata": {
        "id": "NFBO8Kup9xN7"
      },
      "execution_count": null,
      "outputs": []
    }
  ]
}